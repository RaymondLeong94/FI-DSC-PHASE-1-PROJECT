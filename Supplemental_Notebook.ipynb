{
  "nbformat": 4,
  "nbformat_minor": 0,
  "metadata": {
    "colab": {
      "provenance": [],
      "mount_file_id": "1HKgdKeFDOSfWGpNvp74KkunabidKTRST",
      "authorship_tag": "ABX9TyPwRnv3vaItYBnlL0lx9SHf",
      "include_colab_link": true
    },
    "kernelspec": {
      "name": "python3",
      "display_name": "Python 3"
    },
    "language_info": {
      "name": "python"
    }
  },
  "cells": [
    {
      "cell_type": "markdown",
      "metadata": {
        "id": "view-in-github",
        "colab_type": "text"
      },
      "source": [
        "<a href=\"https://colab.research.google.com/github/RaymondLeong94/FI-DSC-PHASE-1-PROJECT/blob/main/Supplemental_Notebook.ipynb\" target=\"_parent\"><img src=\"https://colab.research.google.com/assets/colab-badge.svg\" alt=\"Open In Colab\"/></a>"
      ]
    },
    {
      "cell_type": "markdown",
      "source": [
        "#(Supplemental) Remodeling of Project 1: Exploring im.db"
      ],
      "metadata": {
        "id": "aSrFA7DLrhQ1"
      }
    },
    {
      "cell_type": "markdown",
      "source": [
        "The purpose of this notebook is to expand the project's purpose by including information from the sqlite3 file that was not used previously in this project\n"
      ],
      "metadata": {
        "id": "iDi43JQDruGF"
      }
    },
    {
      "cell_type": "code",
      "source": [
        "#import pandas and json along with drive \n",
        "import pandas as pd\n",
        "import json\n",
        "from google.colab import drive\n",
        "\n",
        "drive.mount('/content/gdrive/', force_remount=True)"
      ],
      "metadata": {
        "colab": {
          "base_uri": "https://localhost:8080/"
        },
        "id": "dwsQUuksAFNh",
        "outputId": "adf7658c-d8ca-4c0e-8bff-e19ab905ee65"
      },
      "execution_count": 55,
      "outputs": [
        {
          "output_type": "stream",
          "name": "stdout",
          "text": [
            "Mounted at /content/gdrive/\n"
          ]
        }
      ]
    },
    {
      "cell_type": "code",
      "execution_count": 2,
      "metadata": {
        "id": "oqHL2FZo_P0W",
        "colab": {
          "base_uri": "https://localhost:8080/"
        },
        "outputId": "30d57f49-d678-4c12-c4df-f7cf9355c375"
      },
      "outputs": [
        {
          "output_type": "stream",
          "name": "stdout",
          "text": [
            "/content/gdrive/MyDrive\n"
          ]
        }
      ],
      "source": [
        "#change directory\n",
        "%cd gdrive/MyDrive"
      ]
    },
    {
      "cell_type": "code",
      "source": [
        "#import necessary drives\n",
        "import sqlite3 \n",
        "%load_ext sql"
      ],
      "metadata": {
        "id": "-h4bCOwMkuGd"
      },
      "execution_count": 3,
      "outputs": []
    },
    {
      "cell_type": "code",
      "source": [
        "#cform the connection\n",
        "conn = sqlite3.connect(\"/content/gdrive/MyDrive/im.db\")"
      ],
      "metadata": {
        "id": "8fHAcIZ7lMqH"
      },
      "execution_count": 4,
      "outputs": []
    },
    {
      "cell_type": "code",
      "source": [
        "#common place to keep track of changes to the database.\n",
        "print(\"Data type:\", type(conn))\n",
        "print(\"Uncommitted changes:\", conn.in_transaction)\n",
        "print(\"Total changes:\", conn.total_changes)"
      ],
      "metadata": {
        "colab": {
          "base_uri": "https://localhost:8080/"
        },
        "id": "AmM4Vzj1l6IX",
        "outputId": "3ea3d854-81c4-4540-f2a7-0d32266f274f"
      },
      "execution_count": 5,
      "outputs": [
        {
          "output_type": "stream",
          "name": "stdout",
          "text": [
            "Data type: <class 'sqlite3.Connection'>\n",
            "Uncommitted changes: False\n",
            "Total changes: 0\n"
          ]
        }
      ]
    },
    {
      "cell_type": "code",
      "source": [
        "#establish the cursor for the rows  of the result set. First we want to see what all has to show, we thus use * \n",
        "cur = conn.cursor()"
      ],
      "metadata": {
        "id": "7OB18eL3oy7V"
      },
      "execution_count": 6,
      "outputs": []
    },
    {
      "cell_type": "code",
      "source": [
        "#execute the command and fetchall to get the table names. \n",
        "cur.execute(\"\"\"SELECT name FROM sqlite_master WHERE type = 'table';\"\"\")\n",
        "table_names = list(cur.fetchall())\n",
        "table_names"
      ],
      "metadata": {
        "colab": {
          "base_uri": "https://localhost:8080/"
        },
        "id": "KwJ7Yzoeo26n",
        "outputId": "747960e2-c19b-49a7-a978-d11c258b23b0"
      },
      "execution_count": 7,
      "outputs": [
        {
          "output_type": "execute_result",
          "data": {
            "text/plain": [
              "[('movie_basics',),\n",
              " ('directors',),\n",
              " ('known_for',),\n",
              " ('movie_akas',),\n",
              " ('movie_ratings',),\n",
              " ('persons',),\n",
              " ('principals',),\n",
              " ('writers',)]"
            ]
          },
          "metadata": {},
          "execution_count": 7
        }
      ]
    },
    {
      "cell_type": "code",
      "source": [
        "# an extremely rudimentary analysis was to look at the files individualy \n",
        "#an example is below\n",
        "#take everything from movie basics\n",
        "cur.execute(\"\"\"SELECT * FROM movie_basics;\"\"\")\n",
        "cur.fetchall()\n",
        "\n",
        "\n",
        "#establishing what is to be retrieved \n",
        "Whatisinhere1 = \"\"\"\n",
        "SELECT *\n",
        "FROM movie_basics\n",
        ";\n",
        "\"\"\"\n",
        "\n",
        "#dataframe creation\n",
        "df1 = pd.DataFrame(cur.execute(Whatisinhere1).fetchall())\n",
        "display(df1.head(5))"
      ],
      "metadata": {
        "id": "a99GMrPoqY_Q",
        "colab": {
          "base_uri": "https://localhost:8080/",
          "height": 206
        },
        "outputId": "1a4f469e-f554-4a40-c17c-428dc9ee3139"
      },
      "execution_count": 8,
      "outputs": [
        {
          "output_type": "display_data",
          "data": {
            "text/plain": [
              "           0                                1                           2  \\\n",
              "0  tt0063540                        Sunghursh                   Sunghursh   \n",
              "1  tt0066787  One Day Before the Rainy Season             Ashad Ka Ek Din   \n",
              "2  tt0069049       The Other Side of the Wind  The Other Side of the Wind   \n",
              "3  tt0069204                  Sabse Bada Sukh             Sabse Bada Sukh   \n",
              "4  tt0100275         The Wandering Soap Opera       La Telenovela Errante   \n",
              "\n",
              "      3      4                     5  \n",
              "0  2013  175.0    Action,Crime,Drama  \n",
              "1  2019  114.0       Biography,Drama  \n",
              "2  2018  122.0                 Drama  \n",
              "3  2018    NaN          Comedy,Drama  \n",
              "4  2017   80.0  Comedy,Drama,Fantasy  "
            ],
            "text/html": [
              "\n",
              "  <div id=\"df-012b151a-a1c6-490d-95b8-b6b385bee625\">\n",
              "    <div class=\"colab-df-container\">\n",
              "      <div>\n",
              "<style scoped>\n",
              "    .dataframe tbody tr th:only-of-type {\n",
              "        vertical-align: middle;\n",
              "    }\n",
              "\n",
              "    .dataframe tbody tr th {\n",
              "        vertical-align: top;\n",
              "    }\n",
              "\n",
              "    .dataframe thead th {\n",
              "        text-align: right;\n",
              "    }\n",
              "</style>\n",
              "<table border=\"1\" class=\"dataframe\">\n",
              "  <thead>\n",
              "    <tr style=\"text-align: right;\">\n",
              "      <th></th>\n",
              "      <th>0</th>\n",
              "      <th>1</th>\n",
              "      <th>2</th>\n",
              "      <th>3</th>\n",
              "      <th>4</th>\n",
              "      <th>5</th>\n",
              "    </tr>\n",
              "  </thead>\n",
              "  <tbody>\n",
              "    <tr>\n",
              "      <th>0</th>\n",
              "      <td>tt0063540</td>\n",
              "      <td>Sunghursh</td>\n",
              "      <td>Sunghursh</td>\n",
              "      <td>2013</td>\n",
              "      <td>175.0</td>\n",
              "      <td>Action,Crime,Drama</td>\n",
              "    </tr>\n",
              "    <tr>\n",
              "      <th>1</th>\n",
              "      <td>tt0066787</td>\n",
              "      <td>One Day Before the Rainy Season</td>\n",
              "      <td>Ashad Ka Ek Din</td>\n",
              "      <td>2019</td>\n",
              "      <td>114.0</td>\n",
              "      <td>Biography,Drama</td>\n",
              "    </tr>\n",
              "    <tr>\n",
              "      <th>2</th>\n",
              "      <td>tt0069049</td>\n",
              "      <td>The Other Side of the Wind</td>\n",
              "      <td>The Other Side of the Wind</td>\n",
              "      <td>2018</td>\n",
              "      <td>122.0</td>\n",
              "      <td>Drama</td>\n",
              "    </tr>\n",
              "    <tr>\n",
              "      <th>3</th>\n",
              "      <td>tt0069204</td>\n",
              "      <td>Sabse Bada Sukh</td>\n",
              "      <td>Sabse Bada Sukh</td>\n",
              "      <td>2018</td>\n",
              "      <td>NaN</td>\n",
              "      <td>Comedy,Drama</td>\n",
              "    </tr>\n",
              "    <tr>\n",
              "      <th>4</th>\n",
              "      <td>tt0100275</td>\n",
              "      <td>The Wandering Soap Opera</td>\n",
              "      <td>La Telenovela Errante</td>\n",
              "      <td>2017</td>\n",
              "      <td>80.0</td>\n",
              "      <td>Comedy,Drama,Fantasy</td>\n",
              "    </tr>\n",
              "  </tbody>\n",
              "</table>\n",
              "</div>\n",
              "      <button class=\"colab-df-convert\" onclick=\"convertToInteractive('df-012b151a-a1c6-490d-95b8-b6b385bee625')\"\n",
              "              title=\"Convert this dataframe to an interactive table.\"\n",
              "              style=\"display:none;\">\n",
              "        \n",
              "  <svg xmlns=\"http://www.w3.org/2000/svg\" height=\"24px\"viewBox=\"0 0 24 24\"\n",
              "       width=\"24px\">\n",
              "    <path d=\"M0 0h24v24H0V0z\" fill=\"none\"/>\n",
              "    <path d=\"M18.56 5.44l.94 2.06.94-2.06 2.06-.94-2.06-.94-.94-2.06-.94 2.06-2.06.94zm-11 1L8.5 8.5l.94-2.06 2.06-.94-2.06-.94L8.5 2.5l-.94 2.06-2.06.94zm10 10l.94 2.06.94-2.06 2.06-.94-2.06-.94-.94-2.06-.94 2.06-2.06.94z\"/><path d=\"M17.41 7.96l-1.37-1.37c-.4-.4-.92-.59-1.43-.59-.52 0-1.04.2-1.43.59L10.3 9.45l-7.72 7.72c-.78.78-.78 2.05 0 2.83L4 21.41c.39.39.9.59 1.41.59.51 0 1.02-.2 1.41-.59l7.78-7.78 2.81-2.81c.8-.78.8-2.07 0-2.86zM5.41 20L4 18.59l7.72-7.72 1.47 1.35L5.41 20z\"/>\n",
              "  </svg>\n",
              "      </button>\n",
              "      \n",
              "  <style>\n",
              "    .colab-df-container {\n",
              "      display:flex;\n",
              "      flex-wrap:wrap;\n",
              "      gap: 12px;\n",
              "    }\n",
              "\n",
              "    .colab-df-convert {\n",
              "      background-color: #E8F0FE;\n",
              "      border: none;\n",
              "      border-radius: 50%;\n",
              "      cursor: pointer;\n",
              "      display: none;\n",
              "      fill: #1967D2;\n",
              "      height: 32px;\n",
              "      padding: 0 0 0 0;\n",
              "      width: 32px;\n",
              "    }\n",
              "\n",
              "    .colab-df-convert:hover {\n",
              "      background-color: #E2EBFA;\n",
              "      box-shadow: 0px 1px 2px rgba(60, 64, 67, 0.3), 0px 1px 3px 1px rgba(60, 64, 67, 0.15);\n",
              "      fill: #174EA6;\n",
              "    }\n",
              "\n",
              "    [theme=dark] .colab-df-convert {\n",
              "      background-color: #3B4455;\n",
              "      fill: #D2E3FC;\n",
              "    }\n",
              "\n",
              "    [theme=dark] .colab-df-convert:hover {\n",
              "      background-color: #434B5C;\n",
              "      box-shadow: 0px 1px 3px 1px rgba(0, 0, 0, 0.15);\n",
              "      filter: drop-shadow(0px 1px 2px rgba(0, 0, 0, 0.3));\n",
              "      fill: #FFFFFF;\n",
              "    }\n",
              "  </style>\n",
              "\n",
              "      <script>\n",
              "        const buttonEl =\n",
              "          document.querySelector('#df-012b151a-a1c6-490d-95b8-b6b385bee625 button.colab-df-convert');\n",
              "        buttonEl.style.display =\n",
              "          google.colab.kernel.accessAllowed ? 'block' : 'none';\n",
              "\n",
              "        async function convertToInteractive(key) {\n",
              "          const element = document.querySelector('#df-012b151a-a1c6-490d-95b8-b6b385bee625');\n",
              "          const dataTable =\n",
              "            await google.colab.kernel.invokeFunction('convertToInteractive',\n",
              "                                                     [key], {});\n",
              "          if (!dataTable) return;\n",
              "\n",
              "          const docLinkHtml = 'Like what you see? Visit the ' +\n",
              "            '<a target=\"_blank\" href=https://colab.research.google.com/notebooks/data_table.ipynb>data table notebook</a>'\n",
              "            + ' to learn more about interactive tables.';\n",
              "          element.innerHTML = '';\n",
              "          dataTable['output_type'] = 'display_data';\n",
              "          await google.colab.output.renderOutput(dataTable, element);\n",
              "          const docLink = document.createElement('div');\n",
              "          docLink.innerHTML = docLinkHtml;\n",
              "          element.appendChild(docLink);\n",
              "        }\n",
              "      </script>\n",
              "    </div>\n",
              "  </div>\n",
              "  "
            ]
          },
          "metadata": {}
        }
      ]
    },
    {
      "cell_type": "code",
      "source": [],
      "metadata": {
        "colab": {
          "base_uri": "https://localhost:8080/"
        },
        "id": "_VUE6K9OtWEw",
        "outputId": "7c61a653-68bd-46b8-9fa2-a2ff0e3a2556"
      },
      "execution_count": 11,
      "outputs": [
        {
          "output_type": "execute_result",
          "data": {
            "text/plain": [
              "(('movie_id', None, None, None, None, None, None),\n",
              " ('primary_title', None, None, None, None, None, None),\n",
              " ('original_title', None, None, None, None, None, None),\n",
              " ('start_year', None, None, None, None, None, None),\n",
              " ('runtime_minutes', None, None, None, None, None, None),\n",
              " ('genres', None, None, None, None, None, None))"
            ]
          },
          "metadata": {},
          "execution_count": 11
        }
      ]
    },
    {
      "cell_type": "markdown",
      "source": [
        "Previously we had the idea to iterate over each table present in the .db file and set it as a pandas dataframe to export to the public version of tableau, this is a ineffciient but free method compared to making your own SQL database and uploading your info there."
      ],
      "metadata": {
        "id": "PCB9DoDS8n0C"
      }
    },
    {
      "cell_type": "code",
      "source": [
        "#we want to say that for every string we would want to iterate over as part of the select statement.\n",
        "#make this into a list of table names\n",
        "cur = conn.cursor()\n",
        "cur.execute(\"\"\"SELECT name FROM sqlite_master WHERE type = 'table';\"\"\")\n",
        "table_names = cur.fetchall()\n",
        "table_names"
      ],
      "metadata": {
        "colab": {
          "base_uri": "https://localhost:8080/"
        },
        "id": "v0WscK-J8-5V",
        "outputId": "a4b6b015-596b-4413-bc36-6a92e31e9f45"
      },
      "execution_count": null,
      "outputs": [
        {
          "output_type": "execute_result",
          "data": {
            "text/plain": [
              "[('movie_basics',),\n",
              " ('directors',),\n",
              " ('known_for',),\n",
              " ('movie_akas',),\n",
              " ('movie_ratings',),\n",
              " ('persons',),\n",
              " ('principals',),\n",
              " ('writers',)]"
            ]
          },
          "metadata": {},
          "execution_count": 26
        }
      ]
    },
    {
      "cell_type": "code",
      "source": [
        "# an extremely rudimentary analysis was to look at the files individualy \n",
        "#an example is below\n",
        "#take everything from movie basics\n",
        "cur.execute(\"\"\"SELECT * FROM movie_ratings;\"\"\")\n",
        "cur.fetchall()\n",
        "\n",
        "\n",
        "#establishing what is to be retrieved \n",
        "Whatisinhere2 = \"\"\"\n",
        "SELECT *\n",
        "FROM movie_ratings\n",
        ";\n",
        "\"\"\"\n",
        "\n",
        "#dataframe creation\n",
        "df2 = pd.DataFrame(cur.execute(Whatisinhere2).fetchall())\n",
        "display(df2.head(5))"
      ],
      "metadata": {
        "id": "_9x9c0s59ArF",
        "colab": {
          "base_uri": "https://localhost:8080/",
          "height": 206
        },
        "outputId": "40b5256f-5289-4dfc-f7ec-5bf16c9a384b"
      },
      "execution_count": 9,
      "outputs": [
        {
          "output_type": "display_data",
          "data": {
            "text/plain": [
              "            0    1      2\n",
              "0  tt10356526  8.3     31\n",
              "1  tt10384606  8.9    559\n",
              "2   tt1042974  6.4     20\n",
              "3   tt1043726  4.2  50352\n",
              "4   tt1060240  6.5     21"
            ],
            "text/html": [
              "\n",
              "  <div id=\"df-1c862e27-016b-47d5-a057-58c699f507b4\">\n",
              "    <div class=\"colab-df-container\">\n",
              "      <div>\n",
              "<style scoped>\n",
              "    .dataframe tbody tr th:only-of-type {\n",
              "        vertical-align: middle;\n",
              "    }\n",
              "\n",
              "    .dataframe tbody tr th {\n",
              "        vertical-align: top;\n",
              "    }\n",
              "\n",
              "    .dataframe thead th {\n",
              "        text-align: right;\n",
              "    }\n",
              "</style>\n",
              "<table border=\"1\" class=\"dataframe\">\n",
              "  <thead>\n",
              "    <tr style=\"text-align: right;\">\n",
              "      <th></th>\n",
              "      <th>0</th>\n",
              "      <th>1</th>\n",
              "      <th>2</th>\n",
              "    </tr>\n",
              "  </thead>\n",
              "  <tbody>\n",
              "    <tr>\n",
              "      <th>0</th>\n",
              "      <td>tt10356526</td>\n",
              "      <td>8.3</td>\n",
              "      <td>31</td>\n",
              "    </tr>\n",
              "    <tr>\n",
              "      <th>1</th>\n",
              "      <td>tt10384606</td>\n",
              "      <td>8.9</td>\n",
              "      <td>559</td>\n",
              "    </tr>\n",
              "    <tr>\n",
              "      <th>2</th>\n",
              "      <td>tt1042974</td>\n",
              "      <td>6.4</td>\n",
              "      <td>20</td>\n",
              "    </tr>\n",
              "    <tr>\n",
              "      <th>3</th>\n",
              "      <td>tt1043726</td>\n",
              "      <td>4.2</td>\n",
              "      <td>50352</td>\n",
              "    </tr>\n",
              "    <tr>\n",
              "      <th>4</th>\n",
              "      <td>tt1060240</td>\n",
              "      <td>6.5</td>\n",
              "      <td>21</td>\n",
              "    </tr>\n",
              "  </tbody>\n",
              "</table>\n",
              "</div>\n",
              "      <button class=\"colab-df-convert\" onclick=\"convertToInteractive('df-1c862e27-016b-47d5-a057-58c699f507b4')\"\n",
              "              title=\"Convert this dataframe to an interactive table.\"\n",
              "              style=\"display:none;\">\n",
              "        \n",
              "  <svg xmlns=\"http://www.w3.org/2000/svg\" height=\"24px\"viewBox=\"0 0 24 24\"\n",
              "       width=\"24px\">\n",
              "    <path d=\"M0 0h24v24H0V0z\" fill=\"none\"/>\n",
              "    <path d=\"M18.56 5.44l.94 2.06.94-2.06 2.06-.94-2.06-.94-.94-2.06-.94 2.06-2.06.94zm-11 1L8.5 8.5l.94-2.06 2.06-.94-2.06-.94L8.5 2.5l-.94 2.06-2.06.94zm10 10l.94 2.06.94-2.06 2.06-.94-2.06-.94-.94-2.06-.94 2.06-2.06.94z\"/><path d=\"M17.41 7.96l-1.37-1.37c-.4-.4-.92-.59-1.43-.59-.52 0-1.04.2-1.43.59L10.3 9.45l-7.72 7.72c-.78.78-.78 2.05 0 2.83L4 21.41c.39.39.9.59 1.41.59.51 0 1.02-.2 1.41-.59l7.78-7.78 2.81-2.81c.8-.78.8-2.07 0-2.86zM5.41 20L4 18.59l7.72-7.72 1.47 1.35L5.41 20z\"/>\n",
              "  </svg>\n",
              "      </button>\n",
              "      \n",
              "  <style>\n",
              "    .colab-df-container {\n",
              "      display:flex;\n",
              "      flex-wrap:wrap;\n",
              "      gap: 12px;\n",
              "    }\n",
              "\n",
              "    .colab-df-convert {\n",
              "      background-color: #E8F0FE;\n",
              "      border: none;\n",
              "      border-radius: 50%;\n",
              "      cursor: pointer;\n",
              "      display: none;\n",
              "      fill: #1967D2;\n",
              "      height: 32px;\n",
              "      padding: 0 0 0 0;\n",
              "      width: 32px;\n",
              "    }\n",
              "\n",
              "    .colab-df-convert:hover {\n",
              "      background-color: #E2EBFA;\n",
              "      box-shadow: 0px 1px 2px rgba(60, 64, 67, 0.3), 0px 1px 3px 1px rgba(60, 64, 67, 0.15);\n",
              "      fill: #174EA6;\n",
              "    }\n",
              "\n",
              "    [theme=dark] .colab-df-convert {\n",
              "      background-color: #3B4455;\n",
              "      fill: #D2E3FC;\n",
              "    }\n",
              "\n",
              "    [theme=dark] .colab-df-convert:hover {\n",
              "      background-color: #434B5C;\n",
              "      box-shadow: 0px 1px 3px 1px rgba(0, 0, 0, 0.15);\n",
              "      filter: drop-shadow(0px 1px 2px rgba(0, 0, 0, 0.3));\n",
              "      fill: #FFFFFF;\n",
              "    }\n",
              "  </style>\n",
              "\n",
              "      <script>\n",
              "        const buttonEl =\n",
              "          document.querySelector('#df-1c862e27-016b-47d5-a057-58c699f507b4 button.colab-df-convert');\n",
              "        buttonEl.style.display =\n",
              "          google.colab.kernel.accessAllowed ? 'block' : 'none';\n",
              "\n",
              "        async function convertToInteractive(key) {\n",
              "          const element = document.querySelector('#df-1c862e27-016b-47d5-a057-58c699f507b4');\n",
              "          const dataTable =\n",
              "            await google.colab.kernel.invokeFunction('convertToInteractive',\n",
              "                                                     [key], {});\n",
              "          if (!dataTable) return;\n",
              "\n",
              "          const docLinkHtml = 'Like what you see? Visit the ' +\n",
              "            '<a target=\"_blank\" href=https://colab.research.google.com/notebooks/data_table.ipynb>data table notebook</a>'\n",
              "            + ' to learn more about interactive tables.';\n",
              "          element.innerHTML = '';\n",
              "          dataTable['output_type'] = 'display_data';\n",
              "          await google.colab.output.renderOutput(dataTable, element);\n",
              "          const docLink = document.createElement('div');\n",
              "          docLink.innerHTML = docLinkHtml;\n",
              "          element.appendChild(docLink);\n",
              "        }\n",
              "      </script>\n",
              "    </div>\n",
              "  </div>\n",
              "  "
            ]
          },
          "metadata": {}
        }
      ]
    },
    {
      "cell_type": "code",
      "source": [
        "df2.columns = ['movie_id','averagerating', 'numvotes']"
      ],
      "metadata": {
        "id": "EgVJOnt3PEWM"
      },
      "execution_count": 10,
      "outputs": []
    },
    {
      "cell_type": "code",
      "source": [
        "df1.columns= ['movie_id', 'primrary_title', 'original_title', 'start_time', 'minutes', 'genres']"
      ],
      "metadata": {
        "id": "3pVPcO3AV_NI"
      },
      "execution_count": 11,
      "outputs": []
    },
    {
      "cell_type": "code",
      "source": [
        "df1_copy = df1.copy()\n",
        "df2_copy = df2.copy()"
      ],
      "metadata": {
        "id": "XGJVHPQgSRa0"
      },
      "execution_count": 12,
      "outputs": []
    },
    {
      "cell_type": "code",
      "source": [
        "import pandas as pd"
      ],
      "metadata": {
        "id": "Kg01ceRwilSC"
      },
      "execution_count": 13,
      "outputs": []
    },
    {
      "cell_type": "code",
      "source": [
        "basics_rating = pd.merge(df1_copy, df2_copy, how = 'left', on = 'movie_id')\n",
        "display(basics_rating.head(5))"
      ],
      "metadata": {
        "colab": {
          "base_uri": "https://localhost:8080/",
          "height": 206
        },
        "id": "cxPvKv7VjO4S",
        "outputId": "bb81b67d-4338-492f-c095-0de25f120661"
      },
      "execution_count": 14,
      "outputs": [
        {
          "output_type": "display_data",
          "data": {
            "text/plain": [
              "    movie_id                   primrary_title              original_title  \\\n",
              "0  tt0063540                        Sunghursh                   Sunghursh   \n",
              "1  tt0066787  One Day Before the Rainy Season             Ashad Ka Ek Din   \n",
              "2  tt0069049       The Other Side of the Wind  The Other Side of the Wind   \n",
              "3  tt0069204                  Sabse Bada Sukh             Sabse Bada Sukh   \n",
              "4  tt0100275         The Wandering Soap Opera       La Telenovela Errante   \n",
              "\n",
              "   start_time  minutes                genres  averagerating  numvotes  \n",
              "0        2013    175.0    Action,Crime,Drama            7.0      77.0  \n",
              "1        2019    114.0       Biography,Drama            7.2      43.0  \n",
              "2        2018    122.0                 Drama            6.9    4517.0  \n",
              "3        2018      NaN          Comedy,Drama            6.1      13.0  \n",
              "4        2017     80.0  Comedy,Drama,Fantasy            6.5     119.0  "
            ],
            "text/html": [
              "\n",
              "  <div id=\"df-2c200883-a32e-4738-b03d-2c39332c771a\">\n",
              "    <div class=\"colab-df-container\">\n",
              "      <div>\n",
              "<style scoped>\n",
              "    .dataframe tbody tr th:only-of-type {\n",
              "        vertical-align: middle;\n",
              "    }\n",
              "\n",
              "    .dataframe tbody tr th {\n",
              "        vertical-align: top;\n",
              "    }\n",
              "\n",
              "    .dataframe thead th {\n",
              "        text-align: right;\n",
              "    }\n",
              "</style>\n",
              "<table border=\"1\" class=\"dataframe\">\n",
              "  <thead>\n",
              "    <tr style=\"text-align: right;\">\n",
              "      <th></th>\n",
              "      <th>movie_id</th>\n",
              "      <th>primrary_title</th>\n",
              "      <th>original_title</th>\n",
              "      <th>start_time</th>\n",
              "      <th>minutes</th>\n",
              "      <th>genres</th>\n",
              "      <th>averagerating</th>\n",
              "      <th>numvotes</th>\n",
              "    </tr>\n",
              "  </thead>\n",
              "  <tbody>\n",
              "    <tr>\n",
              "      <th>0</th>\n",
              "      <td>tt0063540</td>\n",
              "      <td>Sunghursh</td>\n",
              "      <td>Sunghursh</td>\n",
              "      <td>2013</td>\n",
              "      <td>175.0</td>\n",
              "      <td>Action,Crime,Drama</td>\n",
              "      <td>7.0</td>\n",
              "      <td>77.0</td>\n",
              "    </tr>\n",
              "    <tr>\n",
              "      <th>1</th>\n",
              "      <td>tt0066787</td>\n",
              "      <td>One Day Before the Rainy Season</td>\n",
              "      <td>Ashad Ka Ek Din</td>\n",
              "      <td>2019</td>\n",
              "      <td>114.0</td>\n",
              "      <td>Biography,Drama</td>\n",
              "      <td>7.2</td>\n",
              "      <td>43.0</td>\n",
              "    </tr>\n",
              "    <tr>\n",
              "      <th>2</th>\n",
              "      <td>tt0069049</td>\n",
              "      <td>The Other Side of the Wind</td>\n",
              "      <td>The Other Side of the Wind</td>\n",
              "      <td>2018</td>\n",
              "      <td>122.0</td>\n",
              "      <td>Drama</td>\n",
              "      <td>6.9</td>\n",
              "      <td>4517.0</td>\n",
              "    </tr>\n",
              "    <tr>\n",
              "      <th>3</th>\n",
              "      <td>tt0069204</td>\n",
              "      <td>Sabse Bada Sukh</td>\n",
              "      <td>Sabse Bada Sukh</td>\n",
              "      <td>2018</td>\n",
              "      <td>NaN</td>\n",
              "      <td>Comedy,Drama</td>\n",
              "      <td>6.1</td>\n",
              "      <td>13.0</td>\n",
              "    </tr>\n",
              "    <tr>\n",
              "      <th>4</th>\n",
              "      <td>tt0100275</td>\n",
              "      <td>The Wandering Soap Opera</td>\n",
              "      <td>La Telenovela Errante</td>\n",
              "      <td>2017</td>\n",
              "      <td>80.0</td>\n",
              "      <td>Comedy,Drama,Fantasy</td>\n",
              "      <td>6.5</td>\n",
              "      <td>119.0</td>\n",
              "    </tr>\n",
              "  </tbody>\n",
              "</table>\n",
              "</div>\n",
              "      <button class=\"colab-df-convert\" onclick=\"convertToInteractive('df-2c200883-a32e-4738-b03d-2c39332c771a')\"\n",
              "              title=\"Convert this dataframe to an interactive table.\"\n",
              "              style=\"display:none;\">\n",
              "        \n",
              "  <svg xmlns=\"http://www.w3.org/2000/svg\" height=\"24px\"viewBox=\"0 0 24 24\"\n",
              "       width=\"24px\">\n",
              "    <path d=\"M0 0h24v24H0V0z\" fill=\"none\"/>\n",
              "    <path d=\"M18.56 5.44l.94 2.06.94-2.06 2.06-.94-2.06-.94-.94-2.06-.94 2.06-2.06.94zm-11 1L8.5 8.5l.94-2.06 2.06-.94-2.06-.94L8.5 2.5l-.94 2.06-2.06.94zm10 10l.94 2.06.94-2.06 2.06-.94-2.06-.94-.94-2.06-.94 2.06-2.06.94z\"/><path d=\"M17.41 7.96l-1.37-1.37c-.4-.4-.92-.59-1.43-.59-.52 0-1.04.2-1.43.59L10.3 9.45l-7.72 7.72c-.78.78-.78 2.05 0 2.83L4 21.41c.39.39.9.59 1.41.59.51 0 1.02-.2 1.41-.59l7.78-7.78 2.81-2.81c.8-.78.8-2.07 0-2.86zM5.41 20L4 18.59l7.72-7.72 1.47 1.35L5.41 20z\"/>\n",
              "  </svg>\n",
              "      </button>\n",
              "      \n",
              "  <style>\n",
              "    .colab-df-container {\n",
              "      display:flex;\n",
              "      flex-wrap:wrap;\n",
              "      gap: 12px;\n",
              "    }\n",
              "\n",
              "    .colab-df-convert {\n",
              "      background-color: #E8F0FE;\n",
              "      border: none;\n",
              "      border-radius: 50%;\n",
              "      cursor: pointer;\n",
              "      display: none;\n",
              "      fill: #1967D2;\n",
              "      height: 32px;\n",
              "      padding: 0 0 0 0;\n",
              "      width: 32px;\n",
              "    }\n",
              "\n",
              "    .colab-df-convert:hover {\n",
              "      background-color: #E2EBFA;\n",
              "      box-shadow: 0px 1px 2px rgba(60, 64, 67, 0.3), 0px 1px 3px 1px rgba(60, 64, 67, 0.15);\n",
              "      fill: #174EA6;\n",
              "    }\n",
              "\n",
              "    [theme=dark] .colab-df-convert {\n",
              "      background-color: #3B4455;\n",
              "      fill: #D2E3FC;\n",
              "    }\n",
              "\n",
              "    [theme=dark] .colab-df-convert:hover {\n",
              "      background-color: #434B5C;\n",
              "      box-shadow: 0px 1px 3px 1px rgba(0, 0, 0, 0.15);\n",
              "      filter: drop-shadow(0px 1px 2px rgba(0, 0, 0, 0.3));\n",
              "      fill: #FFFFFF;\n",
              "    }\n",
              "  </style>\n",
              "\n",
              "      <script>\n",
              "        const buttonEl =\n",
              "          document.querySelector('#df-2c200883-a32e-4738-b03d-2c39332c771a button.colab-df-convert');\n",
              "        buttonEl.style.display =\n",
              "          google.colab.kernel.accessAllowed ? 'block' : 'none';\n",
              "\n",
              "        async function convertToInteractive(key) {\n",
              "          const element = document.querySelector('#df-2c200883-a32e-4738-b03d-2c39332c771a');\n",
              "          const dataTable =\n",
              "            await google.colab.kernel.invokeFunction('convertToInteractive',\n",
              "                                                     [key], {});\n",
              "          if (!dataTable) return;\n",
              "\n",
              "          const docLinkHtml = 'Like what you see? Visit the ' +\n",
              "            '<a target=\"_blank\" href=https://colab.research.google.com/notebooks/data_table.ipynb>data table notebook</a>'\n",
              "            + ' to learn more about interactive tables.';\n",
              "          element.innerHTML = '';\n",
              "          dataTable['output_type'] = 'display_data';\n",
              "          await google.colab.output.renderOutput(dataTable, element);\n",
              "          const docLink = document.createElement('div');\n",
              "          docLink.innerHTML = docLinkHtml;\n",
              "          element.appendChild(docLink);\n",
              "        }\n",
              "      </script>\n",
              "    </div>\n",
              "  </div>\n",
              "  "
            ]
          },
          "metadata": {}
        }
      ]
    },
    {
      "cell_type": "code",
      "source": [
        "import matplotlib.pyplot as plt\n",
        "\n",
        "basics_rating.averagerating.plot(kind = 'kde')\n"
      ],
      "metadata": {
        "colab": {
          "base_uri": "https://localhost:8080/",
          "height": 447
        },
        "id": "Z20dVg_ilNrP",
        "outputId": "71f981ee-cf54-4802-8854-0064e318a12d"
      },
      "execution_count": 17,
      "outputs": [
        {
          "output_type": "execute_result",
          "data": {
            "text/plain": [
              "<Axes: ylabel='Density'>"
            ]
          },
          "metadata": {},
          "execution_count": 17
        },
        {
          "output_type": "display_data",
          "data": {
            "text/plain": [
              "<Figure size 640x480 with 1 Axes>"
            ],
            "image/png": "[encoded data removed]"
          },
          "metadata": {}
        }
      ]
    },
    {
      "cell_type": "code",
      "source": [
        "basics_rating.numvotes.sort_values(ascending = True)"
      ],
      "metadata": {
        "colab": {
          "base_uri": "https://localhost:8080/"
        },
        "id": "nyJA9c7hnfXQ",
        "outputId": "f4bb278a-4d99-49cf-ec61-812bb2ea5df5"
      },
      "execution_count": 24,
      "outputs": [
        {
          "output_type": "execute_result",
          "data": {
            "text/plain": [
              "88228     5.0\n",
              "113497    5.0\n",
              "59447     5.0\n",
              "23547     5.0\n",
              "113510    5.0\n",
              "         ... \n",
              "146139    NaN\n",
              "146140    NaN\n",
              "146141    NaN\n",
              "146142    NaN\n",
              "146143    NaN\n",
              "Name: numvotes, Length: 146144, dtype: float64"
            ]
          },
          "metadata": {},
          "execution_count": 24
        }
      ]
    },
    {
      "cell_type": "code",
      "source": [
        "df1.shape"
      ],
      "metadata": {
        "colab": {
          "base_uri": "https://localhost:8080/"
        },
        "id": "UBG-AlZ9q2rf",
        "outputId": "f5d68943-cf9c-43b1-f164-f8985c7a72bc"
      },
      "execution_count": 27,
      "outputs": [
        {
          "output_type": "execute_result",
          "data": {
            "text/plain": [
              "(146144, 6)"
            ]
          },
          "metadata": {},
          "execution_count": 27
        }
      ]
    },
    {
      "cell_type": "code",
      "source": [
        "df2.shape"
      ],
      "metadata": {
        "colab": {
          "base_uri": "https://localhost:8080/"
        },
        "id": "Quue4UrMrd1f",
        "outputId": "cfbc71e3-9dea-4277-c416-59e57d5e771a"
      },
      "execution_count": 26,
      "outputs": [
        {
          "output_type": "execute_result",
          "data": {
            "text/plain": [
              "(73856, 3)"
            ]
          },
          "metadata": {},
          "execution_count": 26
        }
      ]
    },
    {
      "cell_type": "code",
      "source": [
        "basics_rating.numvotes.isna().sum()"
      ],
      "metadata": {
        "colab": {
          "base_uri": "https://localhost:8080/"
        },
        "id": "fHw-ZMxmrfDO",
        "outputId": "033f1ada-ad8a-46ee-a70b-8bb4da1baf11"
      },
      "execution_count": 38,
      "outputs": [
        {
          "output_type": "execute_result",
          "data": {
            "text/plain": [
              "72288"
            ]
          },
          "metadata": {},
          "execution_count": 38
        }
      ]
    },
    {
      "cell_type": "markdown",
      "source": [],
      "metadata": {
        "id": "tjzK3thqwsSq"
      }
    },
    {
      "cell_type": "markdown",
      "source": [
        "At this point we need to figure out how much of the data is to be used. We will first slice the dataframe up until all the nan values "
      ],
      "metadata": {
        "id": "6MAPq_68wuI2"
      }
    },
    {
      "cell_type": "code",
      "source": [
        "146144-72288"
      ],
      "metadata": {
        "colab": {
          "base_uri": "https://localhost:8080/"
        },
        "id": "OdFh217DsBZc",
        "outputId": "161fc5ad-4e27-41d5-c0d9-3b2af881d1f4"
      },
      "execution_count": 39,
      "outputs": [
        {
          "output_type": "execute_result",
          "data": {
            "text/plain": [
              "73856"
            ]
          },
          "metadata": {},
          "execution_count": 39
        }
      ]
    },
    {
      "cell_type": "code",
      "source": [
        "basics_rating.averagerating.isna().sum()\n"
      ],
      "metadata": {
        "colab": {
          "base_uri": "https://localhost:8080/"
        },
        "id": "C6WukrCRttR4",
        "outputId": "6cb1e399-2cfa-4b76-801d-6da293f70054"
      },
      "execution_count": 41,
      "outputs": [
        {
          "output_type": "execute_result",
          "data": {
            "text/plain": [
              "72288"
            ]
          },
          "metadata": {},
          "execution_count": 41
        }
      ]
    },
    {
      "cell_type": "code",
      "source": [
        "basics_rating.movie_id.isna().sum()"
      ],
      "metadata": {
        "colab": {
          "base_uri": "https://localhost:8080/"
        },
        "id": "dQ_1WhVrwA_R",
        "outputId": "e2841115-17a1-41fc-9d8c-65f10f12c247"
      },
      "execution_count": 42,
      "outputs": [
        {
          "output_type": "execute_result",
          "data": {
            "text/plain": [
              "0"
            ]
          },
          "metadata": {},
          "execution_count": 42
        }
      ]
    },
    {
      "cell_type": "code",
      "source": [
        "from numpy import NaN\n",
        "basic_rating_clean = basics_rating[basics_rating(averagerating != NaN )]"
      ],
      "metadata": {
        "colab": {
          "base_uri": "https://localhost:8080/",
          "height": 182
        },
        "id": "ipimXCmgwiHc",
        "outputId": "598618d6-0d4f-4cbc-b240-5e48b9a32bb4"
      },
      "execution_count": 45,
      "outputs": [
        {
          "output_type": "error",
          "ename": "NameError",
          "evalue": "ignored",
          "traceback": [
            "\u001b[0;31m---------------------------------------------------------------------------\u001b[0m",
            "\u001b[0;31mNameError\u001b[0m                                 Traceback (most recent call last)",
            "\u001b[0;32m<ipython-input-45-358c171da8c5>\u001b[0m in \u001b[0;36m<cell line: 2>\u001b[0;34m()\u001b[0m\n\u001b[1;32m      1\u001b[0m \u001b[0;32mfrom\u001b[0m \u001b[0mnumpy\u001b[0m \u001b[0;32mimport\u001b[0m \u001b[0mNaN\u001b[0m\u001b[0;34m\u001b[0m\u001b[0;34m\u001b[0m\u001b[0m\n\u001b[0;32m----> 2\u001b[0;31m \u001b[0mbasic_rating_clean\u001b[0m \u001b[0;34m=\u001b[0m \u001b[0mbasics_rating\u001b[0m\u001b[0;34m[\u001b[0m\u001b[0mbasics_rating\u001b[0m\u001b[0;34m(\u001b[0m\u001b[0maveragerating\u001b[0m \u001b[0;34m!=\u001b[0m \u001b[0mNaN\u001b[0m \u001b[0;34m)\u001b[0m\u001b[0;34m]\u001b[0m\u001b[0;34m\u001b[0m\u001b[0;34m\u001b[0m\u001b[0m\n\u001b[0m",
            "\u001b[0;31mNameError\u001b[0m: name 'averagerating' is not defined"
          ]
        }
      ]
    },
    {
      "cell_type": "code",
      "source": [
        "basics_rating_clean = basics_rating.dropna(subset = 'averagerating')\n"
      ],
      "metadata": {
        "id": "xh1TlJKWx5bA"
      },
      "execution_count": 48,
      "outputs": []
    },
    {
      "cell_type": "code",
      "source": [
        "basics_rating_clean.averagerating * basics_rating_clean.numvotes"
      ],
      "metadata": {
        "colab": {
          "base_uri": "https://localhost:8080/",
          "height": 423
        },
        "id": "wQLTbUluyC_f",
        "outputId": "a93186e1-63e3-48ab-eaab-9c2094ea67d3"
      },
      "execution_count": 50,
      "outputs": [
        {
          "output_type": "execute_result",
          "data": {
            "text/plain": [
              "         movie_id                   primrary_title  \\\n",
              "0       tt0063540                        Sunghursh   \n",
              "1       tt0066787  One Day Before the Rainy Season   \n",
              "2       tt0069049       The Other Side of the Wind   \n",
              "3       tt0069204                  Sabse Bada Sukh   \n",
              "4       tt0100275         The Wandering Soap Opera   \n",
              "...           ...                              ...   \n",
              "146115  tt9913084                 Diabolik sono io   \n",
              "146122  tt9914286                Sokagin Çocuklari   \n",
              "146125  tt9914642                        Albatross   \n",
              "146129  tt9914942       La vida sense la Sara Amat   \n",
              "146134  tt9916160                       Drømmeland   \n",
              "\n",
              "                    original_title  start_time  minutes                genres  \\\n",
              "0                        Sunghursh        2013    175.0    Action,Crime,Drama   \n",
              "1                  Ashad Ka Ek Din        2019    114.0       Biography,Drama   \n",
              "2       The Other Side of the Wind        2018    122.0                 Drama   \n",
              "3                  Sabse Bada Sukh        2018      NaN          Comedy,Drama   \n",
              "4            La Telenovela Errante        2017     80.0  Comedy,Drama,Fantasy   \n",
              "...                            ...         ...      ...                   ...   \n",
              "146115            Diabolik sono io        2019     75.0           Documentary   \n",
              "146122           Sokagin Çocuklari        2019     98.0          Drama,Family   \n",
              "146125                   Albatross        2017      NaN           Documentary   \n",
              "146129  La vida sense la Sara Amat        2019      NaN                  None   \n",
              "146134                  Drømmeland        2019     72.0           Documentary   \n",
              "\n",
              "        averagerating  numvotes  \n",
              "0                 7.0      77.0  \n",
              "1                 7.2      43.0  \n",
              "2                 6.9    4517.0  \n",
              "3                 6.1      13.0  \n",
              "4                 6.5     119.0  \n",
              "...               ...       ...  \n",
              "146115            6.2       6.0  \n",
              "146122            8.7     136.0  \n",
              "146125            8.5       8.0  \n",
              "146129            6.6       5.0  \n",
              "146134            6.5      11.0  \n",
              "\n",
              "[73856 rows x 8 columns]"
            ],
            "text/html": [
              "\n",
              "  <div id=\"df-d744ccfe-2c81-4ee4-ade9-623b017457a7\">\n",
              "    <div class=\"colab-df-container\">\n",
              "      <div>\n",
              "<style scoped>\n",
              "    .dataframe tbody tr th:only-of-type {\n",
              "        vertical-align: middle;\n",
              "    }\n",
              "\n",
              "    .dataframe tbody tr th {\n",
              "        vertical-align: top;\n",
              "    }\n",
              "\n",
              "    .dataframe thead th {\n",
              "        text-align: right;\n",
              "    }\n",
              "</style>\n",
              "<table border=\"1\" class=\"dataframe\">\n",
              "  <thead>\n",
              "    <tr style=\"text-align: right;\">\n",
              "      <th></th>\n",
              "      <th>movie_id</th>\n",
              "      <th>primrary_title</th>\n",
              "      <th>original_title</th>\n",
              "      <th>start_time</th>\n",
              "      <th>minutes</th>\n",
              "      <th>genres</th>\n",
              "      <th>averagerating</th>\n",
              "      <th>numvotes</th>\n",
              "    </tr>\n",
              "  </thead>\n",
              "  <tbody>\n",
              "    <tr>\n",
              "      <th>0</th>\n",
              "      <td>tt0063540</td>\n",
              "      <td>Sunghursh</td>\n",
              "      <td>Sunghursh</td>\n",
              "      <td>2013</td>\n",
              "      <td>175.0</td>\n",
              "      <td>Action,Crime,Drama</td>\n",
              "      <td>7.0</td>\n",
              "      <td>77.0</td>\n",
              "    </tr>\n",
              "    <tr>\n",
              "      <th>1</th>\n",
              "      <td>tt0066787</td>\n",
              "      <td>One Day Before the Rainy Season</td>\n",
              "      <td>Ashad Ka Ek Din</td>\n",
              "      <td>2019</td>\n",
              "      <td>114.0</td>\n",
              "      <td>Biography,Drama</td>\n",
              "      <td>7.2</td>\n",
              "      <td>43.0</td>\n",
              "    </tr>\n",
              "    <tr>\n",
              "      <th>2</th>\n",
              "      <td>tt0069049</td>\n",
              "      <td>The Other Side of the Wind</td>\n",
              "      <td>The Other Side of the Wind</td>\n",
              "      <td>2018</td>\n",
              "      <td>122.0</td>\n",
              "      <td>Drama</td>\n",
              "      <td>6.9</td>\n",
              "      <td>4517.0</td>\n",
              "    </tr>\n",
              "    <tr>\n",
              "      <th>3</th>\n",
              "      <td>tt0069204</td>\n",
              "      <td>Sabse Bada Sukh</td>\n",
              "      <td>Sabse Bada Sukh</td>\n",
              "      <td>2018</td>\n",
              "      <td>NaN</td>\n",
              "      <td>Comedy,Drama</td>\n",
              "      <td>6.1</td>\n",
              "      <td>13.0</td>\n",
              "    </tr>\n",
              "    <tr>\n",
              "      <th>4</th>\n",
              "      <td>tt0100275</td>\n",
              "      <td>The Wandering Soap Opera</td>\n",
              "      <td>La Telenovela Errante</td>\n",
              "      <td>2017</td>\n",
              "      <td>80.0</td>\n",
              "      <td>Comedy,Drama,Fantasy</td>\n",
              "      <td>6.5</td>\n",
              "      <td>119.0</td>\n",
              "    </tr>\n",
              "    <tr>\n",
              "      <th>...</th>\n",
              "      <td>...</td>\n",
              "      <td>...</td>\n",
              "      <td>...</td>\n",
              "      <td>...</td>\n",
              "      <td>...</td>\n",
              "      <td>...</td>\n",
              "      <td>...</td>\n",
              "      <td>...</td>\n",
              "    </tr>\n",
              "    <tr>\n",
              "      <th>146115</th>\n",
              "      <td>tt9913084</td>\n",
              "      <td>Diabolik sono io</td>\n",
              "      <td>Diabolik sono io</td>\n",
              "      <td>2019</td>\n",
              "      <td>75.0</td>\n",
              "      <td>Documentary</td>\n",
              "      <td>6.2</td>\n",
              "      <td>6.0</td>\n",
              "    </tr>\n",
              "    <tr>\n",
              "      <th>146122</th>\n",
              "      <td>tt9914286</td>\n",
              "      <td>Sokagin Çocuklari</td>\n",
              "      <td>Sokagin Çocuklari</td>\n",
              "      <td>2019</td>\n",
              "      <td>98.0</td>\n",
              "      <td>Drama,Family</td>\n",
              "      <td>8.7</td>\n",
              "      <td>136.0</td>\n",
              "    </tr>\n",
              "    <tr>\n",
              "      <th>146125</th>\n",
              "      <td>tt9914642</td>\n",
              "      <td>Albatross</td>\n",
              "      <td>Albatross</td>\n",
              "      <td>2017</td>\n",
              "      <td>NaN</td>\n",
              "      <td>Documentary</td>\n",
              "      <td>8.5</td>\n",
              "      <td>8.0</td>\n",
              "    </tr>\n",
              "    <tr>\n",
              "      <th>146129</th>\n",
              "      <td>tt9914942</td>\n",
              "      <td>La vida sense la Sara Amat</td>\n",
              "      <td>La vida sense la Sara Amat</td>\n",
              "      <td>2019</td>\n",
              "      <td>NaN</td>\n",
              "      <td>None</td>\n",
              "      <td>6.6</td>\n",
              "      <td>5.0</td>\n",
              "    </tr>\n",
              "    <tr>\n",
              "      <th>146134</th>\n",
              "      <td>tt9916160</td>\n",
              "      <td>Drømmeland</td>\n",
              "      <td>Drømmeland</td>\n",
              "      <td>2019</td>\n",
              "      <td>72.0</td>\n",
              "      <td>Documentary</td>\n",
              "      <td>6.5</td>\n",
              "      <td>11.0</td>\n",
              "    </tr>\n",
              "  </tbody>\n",
              "</table>\n",
              "<p>73856 rows × 8 columns</p>\n",
              "</div>\n",
              "      <button class=\"colab-df-convert\" onclick=\"convertToInteractive('df-d744ccfe-2c81-4ee4-ade9-623b017457a7')\"\n",
              "              title=\"Convert this dataframe to an interactive table.\"\n",
              "              style=\"display:none;\">\n",
              "        \n",
              "  <svg xmlns=\"http://www.w3.org/2000/svg\" height=\"24px\"viewBox=\"0 0 24 24\"\n",
              "       width=\"24px\">\n",
              "    <path d=\"M0 0h24v24H0V0z\" fill=\"none\"/>\n",
              "    <path d=\"M18.56 5.44l.94 2.06.94-2.06 2.06-.94-2.06-.94-.94-2.06-.94 2.06-2.06.94zm-11 1L8.5 8.5l.94-2.06 2.06-.94-2.06-.94L8.5 2.5l-.94 2.06-2.06.94zm10 10l.94 2.06.94-2.06 2.06-.94-2.06-.94-.94-2.06-.94 2.06-2.06.94z\"/><path d=\"M17.41 7.96l-1.37-1.37c-.4-.4-.92-.59-1.43-.59-.52 0-1.04.2-1.43.59L10.3 9.45l-7.72 7.72c-.78.78-.78 2.05 0 2.83L4 21.41c.39.39.9.59 1.41.59.51 0 1.02-.2 1.41-.59l7.78-7.78 2.81-2.81c.8-.78.8-2.07 0-2.86zM5.41 20L4 18.59l7.72-7.72 1.47 1.35L5.41 20z\"/>\n",
              "  </svg>\n",
              "      </button>\n",
              "      \n",
              "  <style>\n",
              "    .colab-df-container {\n",
              "      display:flex;\n",
              "      flex-wrap:wrap;\n",
              "      gap: 12px;\n",
              "    }\n",
              "\n",
              "    .colab-df-convert {\n",
              "      background-color: #E8F0FE;\n",
              "      border: none;\n",
              "      border-radius: 50%;\n",
              "      cursor: pointer;\n",
              "      display: none;\n",
              "      fill: #1967D2;\n",
              "      height: 32px;\n",
              "      padding: 0 0 0 0;\n",
              "      width: 32px;\n",
              "    }\n",
              "\n",
              "    .colab-df-convert:hover {\n",
              "      background-color: #E2EBFA;\n",
              "      box-shadow: 0px 1px 2px rgba(60, 64, 67, 0.3), 0px 1px 3px 1px rgba(60, 64, 67, 0.15);\n",
              "      fill: #174EA6;\n",
              "    }\n",
              "\n",
              "    [theme=dark] .colab-df-convert {\n",
              "      background-color: #3B4455;\n",
              "      fill: #D2E3FC;\n",
              "    }\n",
              "\n",
              "    [theme=dark] .colab-df-convert:hover {\n",
              "      background-color: #434B5C;\n",
              "      box-shadow: 0px 1px 3px 1px rgba(0, 0, 0, 0.15);\n",
              "      filter: drop-shadow(0px 1px 2px rgba(0, 0, 0, 0.3));\n",
              "      fill: #FFFFFF;\n",
              "    }\n",
              "  </style>\n",
              "\n",
              "      <script>\n",
              "        const buttonEl =\n",
              "          document.querySelector('#df-d744ccfe-2c81-4ee4-ade9-623b017457a7 button.colab-df-convert');\n",
              "        buttonEl.style.display =\n",
              "          google.colab.kernel.accessAllowed ? 'block' : 'none';\n",
              "\n",
              "        async function convertToInteractive(key) {\n",
              "          const element = document.querySelector('#df-d744ccfe-2c81-4ee4-ade9-623b017457a7');\n",
              "          const dataTable =\n",
              "            await google.colab.kernel.invokeFunction('convertToInteractive',\n",
              "                                                     [key], {});\n",
              "          if (!dataTable) return;\n",
              "\n",
              "          const docLinkHtml = 'Like what you see? Visit the ' +\n",
              "            '<a target=\"_blank\" href=https://colab.research.google.com/notebooks/data_table.ipynb>data table notebook</a>'\n",
              "            + ' to learn more about interactive tables.';\n",
              "          element.innerHTML = '';\n",
              "          dataTable['output_type'] = 'display_data';\n",
              "          await google.colab.output.renderOutput(dataTable, element);\n",
              "          const docLink = document.createElement('div');\n",
              "          docLink.innerHTML = docLinkHtml;\n",
              "          element.appendChild(docLink);\n",
              "        }\n",
              "      </script>\n",
              "    </div>\n",
              "  </div>\n",
              "  "
            ]
          },
          "metadata": {},
          "execution_count": 50
        }
      ]
    },
    {
      "cell_type": "code",
      "source": [
        "basics_rating_clean['total_votes'] = basics_rating_clean.apply(lambda row: (row['averagerating']*row['numvotes']),\n",
        "                                            #   if row['Action']=='Sell'\n",
        "                                          ##     else -row['Prices']*row['Amount']),\n",
        "                                   axis=1)"
      ],
      "metadata": {
        "colab": {
          "base_uri": "https://localhost:8080/"
        },
        "id": "E9hW0EoX5_0z",
        "outputId": "ea7dd6b9-4461-4ef8-88fe-64a534997e21"
      },
      "execution_count": 53,
      "outputs": [
        {
          "output_type": "stream",
          "name": "stderr",
          "text": [
            "<ipython-input-53-1ed71f032fca>:1: SettingWithCopyWarning: \n",
            "A value is trying to be set on a copy of a slice from a DataFrame.\n",
            "Try using .loc[row_indexer,col_indexer] = value instead\n",
            "\n",
            "See the caveats in the documentation: https://pandas.pydata.org/pandas-docs/stable/user_guide/indexing.html#returning-a-view-versus-a-copy\n",
            "  basics_rating_clean['total_votes'] = basics_rating_clean.apply(lambda row: (row['averagerating']*row['numvotes']),\n"
          ]
        }
      ]
    },
    {
      "cell_type": "code",
      "source": [
        "basics_rating_clean\n"
      ],
      "metadata": {
        "colab": {
          "base_uri": "https://localhost:8080/",
          "height": 423
        },
        "id": "N7e-4mWT_Z3G",
        "outputId": "0f44d85d-797c-40ad-97b0-d22265dde88e"
      },
      "execution_count": 54,
      "outputs": [
        {
          "output_type": "execute_result",
          "data": {
            "text/plain": [
              "         movie_id                   primrary_title  \\\n",
              "0       tt0063540                        Sunghursh   \n",
              "1       tt0066787  One Day Before the Rainy Season   \n",
              "2       tt0069049       The Other Side of the Wind   \n",
              "3       tt0069204                  Sabse Bada Sukh   \n",
              "4       tt0100275         The Wandering Soap Opera   \n",
              "...           ...                              ...   \n",
              "146115  tt9913084                 Diabolik sono io   \n",
              "146122  tt9914286                Sokagin Çocuklari   \n",
              "146125  tt9914642                        Albatross   \n",
              "146129  tt9914942       La vida sense la Sara Amat   \n",
              "146134  tt9916160                       Drømmeland   \n",
              "\n",
              "                    original_title  start_time  minutes                genres  \\\n",
              "0                        Sunghursh        2013    175.0    Action,Crime,Drama   \n",
              "1                  Ashad Ka Ek Din        2019    114.0       Biography,Drama   \n",
              "2       The Other Side of the Wind        2018    122.0                 Drama   \n",
              "3                  Sabse Bada Sukh        2018      NaN          Comedy,Drama   \n",
              "4            La Telenovela Errante        2017     80.0  Comedy,Drama,Fantasy   \n",
              "...                            ...         ...      ...                   ...   \n",
              "146115            Diabolik sono io        2019     75.0           Documentary   \n",
              "146122           Sokagin Çocuklari        2019     98.0          Drama,Family   \n",
              "146125                   Albatross        2017      NaN           Documentary   \n",
              "146129  La vida sense la Sara Amat        2019      NaN                  None   \n",
              "146134                  Drømmeland        2019     72.0           Documentary   \n",
              "\n",
              "        averagerating  numvotes  total_votes  \n",
              "0                 7.0      77.0        539.0  \n",
              "1                 7.2      43.0        309.6  \n",
              "2                 6.9    4517.0      31167.3  \n",
              "3                 6.1      13.0         79.3  \n",
              "4                 6.5     119.0        773.5  \n",
              "...               ...       ...          ...  \n",
              "146115            6.2       6.0         37.2  \n",
              "146122            8.7     136.0       1183.2  \n",
              "146125            8.5       8.0         68.0  \n",
              "146129            6.6       5.0         33.0  \n",
              "146134            6.5      11.0         71.5  \n",
              "\n",
              "[73856 rows x 9 columns]"
            ],
            "text/html": [
              "\n",
              "  <div id=\"df-d251272b-cc03-463b-885b-472ec9f417e3\">\n",
              "    <div class=\"colab-df-container\">\n",
              "      <div>\n",
              "<style scoped>\n",
              "    .dataframe tbody tr th:only-of-type {\n",
              "        vertical-align: middle;\n",
              "    }\n",
              "\n",
              "    .dataframe tbody tr th {\n",
              "        vertical-align: top;\n",
              "    }\n",
              "\n",
              "    .dataframe thead th {\n",
              "        text-align: right;\n",
              "    }\n",
              "</style>\n",
              "<table border=\"1\" class=\"dataframe\">\n",
              "  <thead>\n",
              "    <tr style=\"text-align: right;\">\n",
              "      <th></th>\n",
              "      <th>movie_id</th>\n",
              "      <th>primrary_title</th>\n",
              "      <th>original_title</th>\n",
              "      <th>start_time</th>\n",
              "      <th>minutes</th>\n",
              "      <th>genres</th>\n",
              "      <th>averagerating</th>\n",
              "      <th>numvotes</th>\n",
              "      <th>total_votes</th>\n",
              "    </tr>\n",
              "  </thead>\n",
              "  <tbody>\n",
              "    <tr>\n",
              "      <th>0</th>\n",
              "      <td>tt0063540</td>\n",
              "      <td>Sunghursh</td>\n",
              "      <td>Sunghursh</td>\n",
              "      <td>2013</td>\n",
              "      <td>175.0</td>\n",
              "      <td>Action,Crime,Drama</td>\n",
              "      <td>7.0</td>\n",
              "      <td>77.0</td>\n",
              "      <td>539.0</td>\n",
              "    </tr>\n",
              "    <tr>\n",
              "      <th>1</th>\n",
              "      <td>tt0066787</td>\n",
              "      <td>One Day Before the Rainy Season</td>\n",
              "      <td>Ashad Ka Ek Din</td>\n",
              "      <td>2019</td>\n",
              "      <td>114.0</td>\n",
              "      <td>Biography,Drama</td>\n",
              "      <td>7.2</td>\n",
              "      <td>43.0</td>\n",
              "      <td>309.6</td>\n",
              "    </tr>\n",
              "    <tr>\n",
              "      <th>2</th>\n",
              "      <td>tt0069049</td>\n",
              "      <td>The Other Side of the Wind</td>\n",
              "      <td>The Other Side of the Wind</td>\n",
              "      <td>2018</td>\n",
              "      <td>122.0</td>\n",
              "      <td>Drama</td>\n",
              "      <td>6.9</td>\n",
              "      <td>4517.0</td>\n",
              "      <td>31167.3</td>\n",
              "    </tr>\n",
              "    <tr>\n",
              "      <th>3</th>\n",
              "      <td>tt0069204</td>\n",
              "      <td>Sabse Bada Sukh</td>\n",
              "      <td>Sabse Bada Sukh</td>\n",
              "      <td>2018</td>\n",
              "      <td>NaN</td>\n",
              "      <td>Comedy,Drama</td>\n",
              "      <td>6.1</td>\n",
              "      <td>13.0</td>\n",
              "      <td>79.3</td>\n",
              "    </tr>\n",
              "    <tr>\n",
              "      <th>4</th>\n",
              "      <td>tt0100275</td>\n",
              "      <td>The Wandering Soap Opera</td>\n",
              "      <td>La Telenovela Errante</td>\n",
              "      <td>2017</td>\n",
              "      <td>80.0</td>\n",
              "      <td>Comedy,Drama,Fantasy</td>\n",
              "      <td>6.5</td>\n",
              "      <td>119.0</td>\n",
              "      <td>773.5</td>\n",
              "    </tr>\n",
              "    <tr>\n",
              "      <th>...</th>\n",
              "      <td>...</td>\n",
              "      <td>...</td>\n",
              "      <td>...</td>\n",
              "      <td>...</td>\n",
              "      <td>...</td>\n",
              "      <td>...</td>\n",
              "      <td>...</td>\n",
              "      <td>...</td>\n",
              "      <td>...</td>\n",
              "    </tr>\n",
              "    <tr>\n",
              "      <th>146115</th>\n",
              "      <td>tt9913084</td>\n",
              "      <td>Diabolik sono io</td>\n",
              "      <td>Diabolik sono io</td>\n",
              "      <td>2019</td>\n",
              "      <td>75.0</td>\n",
              "      <td>Documentary</td>\n",
              "      <td>6.2</td>\n",
              "      <td>6.0</td>\n",
              "      <td>37.2</td>\n",
              "    </tr>\n",
              "    <tr>\n",
              "      <th>146122</th>\n",
              "      <td>tt9914286</td>\n",
              "      <td>Sokagin Çocuklari</td>\n",
              "      <td>Sokagin Çocuklari</td>\n",
              "      <td>2019</td>\n",
              "      <td>98.0</td>\n",
              "      <td>Drama,Family</td>\n",
              "      <td>8.7</td>\n",
              "      <td>136.0</td>\n",
              "      <td>1183.2</td>\n",
              "    </tr>\n",
              "    <tr>\n",
              "      <th>146125</th>\n",
              "      <td>tt9914642</td>\n",
              "      <td>Albatross</td>\n",
              "      <td>Albatross</td>\n",
              "      <td>2017</td>\n",
              "      <td>NaN</td>\n",
              "      <td>Documentary</td>\n",
              "      <td>8.5</td>\n",
              "      <td>8.0</td>\n",
              "      <td>68.0</td>\n",
              "    </tr>\n",
              "    <tr>\n",
              "      <th>146129</th>\n",
              "      <td>tt9914942</td>\n",
              "      <td>La vida sense la Sara Amat</td>\n",
              "      <td>La vida sense la Sara Amat</td>\n",
              "      <td>2019</td>\n",
              "      <td>NaN</td>\n",
              "      <td>None</td>\n",
              "      <td>6.6</td>\n",
              "      <td>5.0</td>\n",
              "      <td>33.0</td>\n",
              "    </tr>\n",
              "    <tr>\n",
              "      <th>146134</th>\n",
              "      <td>tt9916160</td>\n",
              "      <td>Drømmeland</td>\n",
              "      <td>Drømmeland</td>\n",
              "      <td>2019</td>\n",
              "      <td>72.0</td>\n",
              "      <td>Documentary</td>\n",
              "      <td>6.5</td>\n",
              "      <td>11.0</td>\n",
              "      <td>71.5</td>\n",
              "    </tr>\n",
              "  </tbody>\n",
              "</table>\n",
              "<p>73856 rows × 9 columns</p>\n",
              "</div>\n",
              "      <button class=\"colab-df-convert\" onclick=\"convertToInteractive('df-d251272b-cc03-463b-885b-472ec9f417e3')\"\n",
              "              title=\"Convert this dataframe to an interactive table.\"\n",
              "              style=\"display:none;\">\n",
              "        \n",
              "  <svg xmlns=\"http://www.w3.org/2000/svg\" height=\"24px\"viewBox=\"0 0 24 24\"\n",
              "       width=\"24px\">\n",
              "    <path d=\"M0 0h24v24H0V0z\" fill=\"none\"/>\n",
              "    <path d=\"M18.56 5.44l.94 2.06.94-2.06 2.06-.94-2.06-.94-.94-2.06-.94 2.06-2.06.94zm-11 1L8.5 8.5l.94-2.06 2.06-.94-2.06-.94L8.5 2.5l-.94 2.06-2.06.94zm10 10l.94 2.06.94-2.06 2.06-.94-2.06-.94-.94-2.06-.94 2.06-2.06.94z\"/><path d=\"M17.41 7.96l-1.37-1.37c-.4-.4-.92-.59-1.43-.59-.52 0-1.04.2-1.43.59L10.3 9.45l-7.72 7.72c-.78.78-.78 2.05 0 2.83L4 21.41c.39.39.9.59 1.41.59.51 0 1.02-.2 1.41-.59l7.78-7.78 2.81-2.81c.8-.78.8-2.07 0-2.86zM5.41 20L4 18.59l7.72-7.72 1.47 1.35L5.41 20z\"/>\n",
              "  </svg>\n",
              "      </button>\n",
              "      \n",
              "  <style>\n",
              "    .colab-df-container {\n",
              "      display:flex;\n",
              "      flex-wrap:wrap;\n",
              "      gap: 12px;\n",
              "    }\n",
              "\n",
              "    .colab-df-convert {\n",
              "      background-color: #E8F0FE;\n",
              "      border: none;\n",
              "      border-radius: 50%;\n",
              "      cursor: pointer;\n",
              "      display: none;\n",
              "      fill: #1967D2;\n",
              "      height: 32px;\n",
              "      padding: 0 0 0 0;\n",
              "      width: 32px;\n",
              "    }\n",
              "\n",
              "    .colab-df-convert:hover {\n",
              "      background-color: #E2EBFA;\n",
              "      box-shadow: 0px 1px 2px rgba(60, 64, 67, 0.3), 0px 1px 3px 1px rgba(60, 64, 67, 0.15);\n",
              "      fill: #174EA6;\n",
              "    }\n",
              "\n",
              "    [theme=dark] .colab-df-convert {\n",
              "      background-color: #3B4455;\n",
              "      fill: #D2E3FC;\n",
              "    }\n",
              "\n",
              "    [theme=dark] .colab-df-convert:hover {\n",
              "      background-color: #434B5C;\n",
              "      box-shadow: 0px 1px 3px 1px rgba(0, 0, 0, 0.15);\n",
              "      filter: drop-shadow(0px 1px 2px rgba(0, 0, 0, 0.3));\n",
              "      fill: #FFFFFF;\n",
              "    }\n",
              "  </style>\n",
              "\n",
              "      <script>\n",
              "        const buttonEl =\n",
              "          document.querySelector('#df-d251272b-cc03-463b-885b-472ec9f417e3 button.colab-df-convert');\n",
              "        buttonEl.style.display =\n",
              "          google.colab.kernel.accessAllowed ? 'block' : 'none';\n",
              "\n",
              "        async function convertToInteractive(key) {\n",
              "          const element = document.querySelector('#df-d251272b-cc03-463b-885b-472ec9f417e3');\n",
              "          const dataTable =\n",
              "            await google.colab.kernel.invokeFunction('convertToInteractive',\n",
              "                                                     [key], {});\n",
              "          if (!dataTable) return;\n",
              "\n",
              "          const docLinkHtml = 'Like what you see? Visit the ' +\n",
              "            '<a target=\"_blank\" href=https://colab.research.google.com/notebooks/data_table.ipynb>data table notebook</a>'\n",
              "            + ' to learn more about interactive tables.';\n",
              "          element.innerHTML = '';\n",
              "          dataTable['output_type'] = 'display_data';\n",
              "          await google.colab.output.renderOutput(dataTable, element);\n",
              "          const docLink = document.createElement('div');\n",
              "          docLink.innerHTML = docLinkHtml;\n",
              "          element.appendChild(docLink);\n",
              "        }\n",
              "      </script>\n",
              "    </div>\n",
              "  </div>\n",
              "  "
            ]
          },
          "metadata": {},
          "execution_count": 54
        }
      ]
    },
    {
      "cell_type": "code",
      "source": [],
      "metadata": {
        "id": "JoEwPTEG_kMu"
      },
      "execution_count": null,
      "outputs": []
    }
  ]
}