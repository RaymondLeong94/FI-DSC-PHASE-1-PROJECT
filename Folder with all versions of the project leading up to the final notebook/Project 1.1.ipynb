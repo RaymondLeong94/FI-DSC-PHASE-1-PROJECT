{
 "cells": [
  {
   "cell_type": "code",
   "execution_count": 1,
   "metadata": {},
   "outputs": [],
   "source": [
    "import pandas as pd\n",
    "import numpy as np\n",
    "import sqlite3 \n"
   ]
  },
  {
   "cell_type": "code",
   "execution_count": 2,
   "metadata": {},
   "outputs": [
    {
     "name": "stdout",
     "output_type": "stream",
     "text": [
      "Data type: <class 'sqlite3.Connection'>\n",
      "Uncommitted changes: False\n",
      "Total changes: 0\n"
     ]
    }
   ],
   "source": [
    "ConnectiontoDF = sqlite3.connect(\"im.db\") \n",
    "\n",
    "\n",
    "#https://github.com/learn-co-curriculum/dsc-selecting-data\n",
    "\n",
    "\n",
    "print(\"Data type:\", type(ConnectiontoDF))\n",
    "print(\"Uncommitted changes:\", ConnectiontoDF.in_transaction)\n",
    "print(\"Total changes:\", ConnectiontoDF.total_changes)"
   ]
  },
  {
   "cell_type": "code",
   "execution_count": 3,
   "metadata": {},
   "outputs": [],
   "source": [
    "cur = ConnectiontoDF.cursor()"
   ]
  },
  {
   "cell_type": "code",
   "execution_count": 4,
   "metadata": {},
   "outputs": [
    {
     "data": {
      "text/plain": [
       "[('movie_basics',),\n",
       " ('directors',),\n",
       " ('known_for',),\n",
       " ('movie_akas',),\n",
       " ('movie_ratings',),\n",
       " ('persons',),\n",
       " ('principals',),\n",
       " ('writers',)]"
      ]
     },
     "execution_count": 4,
     "metadata": {},
     "output_type": "execute_result"
    }
   ],
   "source": [
    "cur.execute(\"\"\"SELECT name FROM sqlite_master WHERE type = 'table';\"\"\")\n",
    "table_names = cur.fetchall()\n",
    "table_names\n"
   ]
  },
  {
   "cell_type": "code",
   "execution_count": 23,
   "metadata": {},
   "outputs": [],
   "source": [
    "#data = pd.read_csv(\"bom.movie_gross.csv.gz\")#\n",
    "\n",
    "#ype(data[\"domestic_gross\"])\n",
    "#ype(data[\"foreign_gross\"])\n",
    "#data.head()\n",
    "\n",
    "#data.foreign_gross = data.foreign_gross.str.strip()\n",
    "\n",
    "#data[\"foreign_gross\"] = data[\"foreign_gross\"].fillna(0)\n",
    "#data[\"foreign_gross\"] = data[\"foreign_gross\"].astype(int)\n",
    "\n",
    "\n",
    "\n",
    "#ata.sort_values(by=[\"foreign_gross\"], inplace = True, ascending = True)\n",
    "\n",
    "\n",
    "#data[\"foreign_gross\"] = data[\"foreign_gross\"].fillna(0)\n",
    "#data[\"foreign_gross\"] = data[\"foreign_gross\"].astype(int)\n",
    "#data.head()\n",
    "\n",
    "#data[\"domestic_gross\"] = data[\"domestic_gross\"].fillna(0)\n",
    "#data[\"domestic_gross\"] = data[\"domestic_gross\"].astype(int)#bug?!?! or change into floats either works \n",
    "\n",
    "\n",
    "#datacsvBOM =data.loc[(data[\"domestic_gross\"] + data[\"foreign_gross\"].astype('int64').fillna(0))> 0]\n",
    "\n",
    "\n",
    "#data[\"total_gross\"] = data[\"domestic_gross\"].astype(int) + data[\"foreign_gross\"].astype(int)\n",
    "\n",
    "\n",
    "#ddatacsvBOM.head()\n",
    "\n",
    "#https://flatiron.illumidesk.com/user/lraymond94sbu/notebooks/dsc-accessing-data-with-pandas/index.ipynb\n",
    "#add_column = \"\"\"\n",
    "#ALTER TABLE data\n",
    "#ADD COLUMN totalnumber REAL;\n",
    "#\"\"\"\n",
    "#cur.execute(add_column)\n",
    "#fill_values = \"\"\"\n",
    "#UPDATE data\n",
    "#SET totalnumber = domestic gross + foreign_gross\n",
    "#;\n",
    "#\"\"\"\n",
    "#cur.execute(fill_values)\n",
    "#Total_gross = \"\"\"\n",
    "#ALTER TABLE \n",
    "#ADD COLUMN creditLimitNumeric REAL;\n",
    "#\"\"\"\n",
    "#cur.execute(add_column)"
   ]
  },
  {
   "cell_type": "code",
   "execution_count": 24,
   "metadata": {},
   "outputs": [
    {
     "data": {
      "text/html": [
       "<div>\n",
       "<style scoped>\n",
       "    .dataframe tbody tr th:only-of-type {\n",
       "        vertical-align: middle;\n",
       "    }\n",
       "\n",
       "    .dataframe tbody tr th {\n",
       "        vertical-align: top;\n",
       "    }\n",
       "\n",
       "    .dataframe thead th {\n",
       "        text-align: right;\n",
       "    }\n",
       "</style>\n",
       "<table border=\"1\" class=\"dataframe\">\n",
       "  <thead>\n",
       "    <tr style=\"text-align: right;\">\n",
       "      <th></th>\n",
       "      <th>title</th>\n",
       "      <th>studio</th>\n",
       "      <th>domestic_gross</th>\n",
       "      <th>foreign_gross</th>\n",
       "      <th>year</th>\n",
       "    </tr>\n",
       "  </thead>\n",
       "  <tbody>\n",
       "    <tr>\n",
       "      <th>0</th>\n",
       "      <td>Toy Story 3</td>\n",
       "      <td>BV</td>\n",
       "      <td>415000000.0</td>\n",
       "      <td>652000000</td>\n",
       "      <td>2010</td>\n",
       "    </tr>\n",
       "    <tr>\n",
       "      <th>1</th>\n",
       "      <td>Alice in Wonderland (2010)</td>\n",
       "      <td>BV</td>\n",
       "      <td>334200000.0</td>\n",
       "      <td>691300000</td>\n",
       "      <td>2010</td>\n",
       "    </tr>\n",
       "    <tr>\n",
       "      <th>2</th>\n",
       "      <td>Harry Potter and the Deathly Hallows Part 1</td>\n",
       "      <td>WB</td>\n",
       "      <td>296000000.0</td>\n",
       "      <td>664300000</td>\n",
       "      <td>2010</td>\n",
       "    </tr>\n",
       "    <tr>\n",
       "      <th>3</th>\n",
       "      <td>Inception</td>\n",
       "      <td>WB</td>\n",
       "      <td>292600000.0</td>\n",
       "      <td>535700000</td>\n",
       "      <td>2010</td>\n",
       "    </tr>\n",
       "    <tr>\n",
       "      <th>4</th>\n",
       "      <td>Shrek Forever After</td>\n",
       "      <td>P/DW</td>\n",
       "      <td>238700000.0</td>\n",
       "      <td>513900000</td>\n",
       "      <td>2010</td>\n",
       "    </tr>\n",
       "  </tbody>\n",
       "</table>\n",
       "</div>"
      ],
      "text/plain": [
       "                                         title studio  domestic_gross  \\\n",
       "0                                  Toy Story 3     BV     415000000.0   \n",
       "1                   Alice in Wonderland (2010)     BV     334200000.0   \n",
       "2  Harry Potter and the Deathly Hallows Part 1     WB     296000000.0   \n",
       "3                                    Inception     WB     292600000.0   \n",
       "4                          Shrek Forever After   P/DW     238700000.0   \n",
       "\n",
       "  foreign_gross  year  \n",
       "0     652000000  2010  \n",
       "1     691300000  2010  \n",
       "2     664300000  2010  \n",
       "3     535700000  2010  \n",
       "4     513900000  2010  "
      ]
     },
     "execution_count": 24,
     "metadata": {},
     "output_type": "execute_result"
    }
   ],
   "source": [
    "data = pd.read_csv(\"bom.movie_gross.csv.gz\")\n",
    "data.head()"
   ]
  },
  {
   "cell_type": "code",
   "execution_count": null,
   "metadata": {},
   "outputs": [],
   "source": [
    "#so if i convert this float to string then i would do:\n",
    "#this might work but i need to convert NaN valuesdata\n",
    "#data[\"domestic_gross\"] = data[\"domestic_gross\"].fillna(0)\n",
    "#after this i want to change all values to integers because its a mix of 0 \n",
    "#data[\"domestic_gross\"] = data[\"domestic_gross\"].astype(int)\n",
    "#data.head(5) this verifies that all of them are integers\n",
    "#now i want to sort by ascending order with a WHERE clause \n",
    "#pd.read_sql(\"\"\"SELECT * FROM movie_basics WHERE domestic_gross >=10000000;\"\"\", ConnectiontoDF)"
   ]
  },
  {
   "cell_type": "code",
   "execution_count": null,
   "metadata": {},
   "outputs": [],
   "source": [
    "add_column = \"\"\"\n",
    "ALTER TABLE data\n",
    "ADD COLUMN domestic_gross1 REAL;\n",
    "\"\"\"\n",
    "cur.execute(add_column)\n"
   ]
  },
  {
   "cell_type": "code",
   "execution_count": null,
   "metadata": {},
   "outputs": [],
   "source": []
  },
  {
   "cell_type": "code",
   "execution_count": null,
   "metadata": {},
   "outputs": [],
   "source": []
  },
  {
   "cell_type": "code",
   "execution_count": null,
   "metadata": {},
   "outputs": [],
   "source": []
  }
 ],
 "metadata": {
  "kernelspec": {
   "display_name": "Python 3",
   "language": "python",
   "name": "python3"
  },
  "language_info": {
   "codemirror_mode": {
    "name": "ipython",
    "version": 3
   },
   "file_extension": ".py",
   "mimetype": "text/x-python",
   "name": "python",
   "nbconvert_exporter": "python",
   "pygments_lexer": "ipython3",
   "version": "3.8.5"
  }
 },
 "nbformat": 4,
 "nbformat_minor": 4
}
